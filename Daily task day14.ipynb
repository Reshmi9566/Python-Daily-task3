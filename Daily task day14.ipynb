{
 "cells": [
  {
   "cell_type": "code",
   "execution_count": 10,
   "id": "7c79509c",
   "metadata": {},
   "outputs": [
    {
     "name": "stdout",
     "output_type": "stream",
     "text": [
      "Enter first number : 7\n",
      "Enter second number : 5\n",
      "Enter third number : 3\n",
      "Maximum value : 7\n"
     ]
    }
   ],
   "source": [
    "#QUESTION 1\n",
    "def maximum(n1,n2,n3):\n",
    "    if n1>n2 and n1>n3:\n",
    "        print(f'Maximum value : {n1}')\n",
    "    elif n2>n1 and n2>n3:\n",
    "        print(f'Maximum value : {n2}')\n",
    "    else:\n",
    "        print(f'Maximum value : {n3}')\n",
    "n1=int(input(\"Enter first number : \"))\n",
    "n2=int(input(\"Enter second number : \"))\n",
    "n3=int(input(\"Enter third number : \"))\n",
    "maximum(n1,n2,n3)"
   ]
  },
  {
   "cell_type": "code",
   "execution_count": 13,
   "id": "0bff8139",
   "metadata": {},
   "outputs": [
    {
     "name": "stdout",
     "output_type": "stream",
     "text": [
      "Radius : 4\n",
      "Area of a circle : 50.24\n"
     ]
    }
   ],
   "source": [
    "#QUESTION 2\n",
    "def area(r):\n",
    "    circle_area=3.14*r**2\n",
    "    print(f'Area of a circle : {circle_area}')\n",
    "r=float(input(\"Radius : \"))\n",
    "area(r)"
   ]
  },
  {
   "cell_type": "code",
   "execution_count": 4,
   "id": "b7f563e0",
   "metadata": {},
   "outputs": [
    {
     "name": "stdout",
     "output_type": "stream",
     "text": [
      "Enter a number : 11\n"
     ]
    },
    {
     "data": {
      "text/plain": [
       "True"
      ]
     },
     "execution_count": 4,
     "metadata": {},
     "output_type": "execute_result"
    }
   ],
   "source": [
    "#QUESTION 3\n",
    "def prime(n):\n",
    "    for i in range(2,n):\n",
    "        if n%i==0:\n",
    "            return False\n",
    "    else:\n",
    "        return True\n",
    "n=int(input(\"Enter a number : \"))\n",
    "prime(n)"
   ]
  },
  {
   "cell_type": "code",
   "execution_count": 29,
   "id": "be674727",
   "metadata": {},
   "outputs": [
    {
     "name": "stdout",
     "output_type": "stream",
     "text": [
      "Enter the string : wow\n"
     ]
    },
    {
     "data": {
      "text/plain": [
       "True"
      ]
     },
     "execution_count": 29,
     "metadata": {},
     "output_type": "execute_result"
    }
   ],
   "source": [
    "#QUESTION 4\n",
    "def palindrome(string):\n",
    "    if string==string[::-1]:\n",
    "        return True\n",
    "    else:\n",
    "        return False\n",
    "string=input(\"Enter the string : \")\n",
    "palindrome(string)"
   ]
  },
  {
   "cell_type": "code",
   "execution_count": 1,
   "id": "9d395a4f",
   "metadata": {},
   "outputs": [
    {
     "name": "stdout",
     "output_type": "stream",
     "text": [
      "[2, 4, 6, 8, 10]\n"
     ]
    },
    {
     "data": {
      "text/plain": [
       "30"
      ]
     },
     "execution_count": 1,
     "metadata": {},
     "output_type": "execute_result"
    }
   ],
   "source": [
    "#QUESTION 5\n",
    "def sum_of_all(list1):\n",
    "    sum1=0\n",
    "    for i in list1:\n",
    "        sum1+=i\n",
    "    return sum1\n",
    "list1=[2,4,6,8,10]\n",
    "print(list1)\n",
    "sum_of_all(list1)"
   ]
  },
  {
   "cell_type": "code",
   "execution_count": 2,
   "id": "017c6ca4",
   "metadata": {},
   "outputs": [
    {
     "data": {
      "text/plain": [
       "5.0"
      ]
     },
     "execution_count": 2,
     "metadata": {},
     "output_type": "execute_result"
    }
   ],
   "source": [
    "#QUESTION 6\n",
    "def average(list2):\n",
    "    sum1=0\n",
    "    for i in list2:\n",
    "        sum1+=i\n",
    "    avg=sum1/len(list2)\n",
    "    return avg\n",
    "list2=[1,3,5,7,9]\n",
    "average(list2)"
   ]
  },
  {
   "cell_type": "code",
   "execution_count": 53,
   "id": "66bc0116",
   "metadata": {},
   "outputs": [
    {
     "name": "stdout",
     "output_type": "stream",
     "text": [
      "[2, 6, 4, 9, 1, 8]\n",
      "3th largest element : 6\n"
     ]
    }
   ],
   "source": [
    "#QUESTION 7\n",
    "def kth_largest(list3,k):\n",
    "    list3.sort(reverse=True)\n",
    "    print(f'{k}th largest element : {list3[k-1]}' )\n",
    "list3=[2,6,4,9,1,8]\n",
    "k=3\n",
    "print(list3)\n",
    "kth_largest(list3,k)       "
   ]
  },
  {
   "cell_type": "code",
   "execution_count": 3,
   "id": "b0d958f2",
   "metadata": {},
   "outputs": [
    {
     "data": {
      "text/plain": [
       "11"
      ]
     },
     "execution_count": 3,
     "metadata": {},
     "output_type": "execute_result"
    }
   ],
   "source": [
    "#QUESTION 8\n",
    "def sum_of_digits(integer):\n",
    "    if integer<10:\n",
    "        return integer\n",
    "    else:\n",
    "        return integer%10 + sum_of_digits(integer//10)\n",
    "integer=1235\n",
    "sum_of_digits(integer)"
   ]
  },
  {
   "cell_type": "code",
   "execution_count": 14,
   "id": "b3e0b6a6",
   "metadata": {},
   "outputs": [
    {
     "name": "stdout",
     "output_type": "stream",
     "text": [
      "Enter base value : 3\n",
      "Enter exponent value : 4\n",
      "Power of the number : 81\n"
     ]
    }
   ],
   "source": [
    "#QUESTION 9\n",
    "def power_of_number(base,exp):\n",
    "    if exp==0:\n",
    "        return 1\n",
    "    else:\n",
    "        for i in range(exp):\n",
    "            return base*power_of_number(base,exp-1)\n",
    "base=int(input(\"Enter base value : \"))\n",
    "exp=int(input(\"Enter exponent value : \"))\n",
    "powr=power_of_number(base,exp)\n",
    "print(f'Power of the number : {powr}')"
   ]
  },
  {
   "cell_type": "code",
   "execution_count": 18,
   "id": "bb4d7e55",
   "metadata": {},
   "outputs": [
    {
     "name": "stdout",
     "output_type": "stream",
     "text": [
      "Enter first number : 48\n",
      "Enter second number : 120\n",
      "Greatest common divisor of 48 and 120 : 24\n"
     ]
    }
   ],
   "source": [
    "#QUESTION 10\n",
    "def gcd(a,b):\n",
    "    while b!=0:\n",
    "        a,b=b,a%b\n",
    "    return a\n",
    "a=int(input(\"Enter first number : \"))\n",
    "b=int(input(\"Enter second number : \"))\n",
    "print(f\"Greatest common divisor of {a} and {b} : {gcd(a,b)}\")\n",
    "    \n",
    "        "
   ]
  },
  {
   "cell_type": "code",
   "execution_count": 20,
   "id": "74fe738f",
   "metadata": {},
   "outputs": [
    {
     "data": {
      "text/plain": [
       "array([0, 1, 2, 3, 4, 5, 6, 7, 8, 9])"
      ]
     },
     "execution_count": 20,
     "metadata": {},
     "output_type": "execute_result"
    }
   ],
   "source": [
    "#QUESTION 11\n",
    "import numpy as np\n",
    "arr1=np.arange(10)\n",
    "arr1"
   ]
  },
  {
   "cell_type": "code",
   "execution_count": 21,
   "id": "aa13d68c",
   "metadata": {},
   "outputs": [
    {
     "data": {
      "text/plain": [
       "array([[1, 2, 3],\n",
       "       [4, 5, 6],\n",
       "       [7, 8, 9]])"
      ]
     },
     "execution_count": 21,
     "metadata": {},
     "output_type": "execute_result"
    }
   ],
   "source": [
    "#QUESTION 12\n",
    "arr2=np.arange(1,10)\n",
    "arr2=arr2.reshape(3,3)\n",
    "arr2"
   ]
  },
  {
   "cell_type": "code",
   "execution_count": 25,
   "id": "ec5be89f",
   "metadata": {},
   "outputs": [
    {
     "data": {
      "text/plain": [
       "array([[1., 0., 0.],\n",
       "       [0., 1., 0.],\n",
       "       [0., 0., 1.]])"
      ]
     },
     "execution_count": 25,
     "metadata": {},
     "output_type": "execute_result"
    }
   ],
   "source": [
    "#QUESTION 13\n",
    "arr3=np.eye(3)\n",
    "arr3"
   ]
  },
  {
   "cell_type": "code",
   "execution_count": 37,
   "id": "020ddda7",
   "metadata": {},
   "outputs": [
    {
     "name": "stdout",
     "output_type": "stream",
     "text": [
      "[ 57  86  28  47  40  24  39  56 100  60]\n",
      "mean : 53.7\n",
      "standard deviation : 22.878155520058865\n"
     ]
    }
   ],
   "source": [
    "#QUESTION 14\n",
    "arr4=np.random.randint(10,101,10)\n",
    "print(arr4)\n",
    "print(f\"mean : {arr4.mean()}\")\n",
    "print(f\"standard deviation : {arr4.std()}\")"
   ]
  },
  {
   "cell_type": "code",
   "execution_count": 38,
   "id": "ea39d3aa",
   "metadata": {},
   "outputs": [
    {
     "data": {
      "text/plain": [
       "array([10, 11, 12, 13, 14, 15, 16, 17, 18, 19, 20])"
      ]
     },
     "execution_count": 38,
     "metadata": {},
     "output_type": "execute_result"
    }
   ],
   "source": [
    "#QUESTION 15\n",
    "arr5=np.arange(10,21)\n",
    "arr5"
   ]
  },
  {
   "cell_type": "code",
   "execution_count": 43,
   "id": "82a0ef08",
   "metadata": {},
   "outputs": [
    {
     "data": {
      "text/plain": [
       "array([10, 11, 12, 13, 14])"
      ]
     },
     "execution_count": 43,
     "metadata": {},
     "output_type": "execute_result"
    }
   ],
   "source": [
    "arr5[:5]"
   ]
  },
  {
   "cell_type": "code",
   "execution_count": 47,
   "id": "d557356a",
   "metadata": {},
   "outputs": [
    {
     "data": {
      "text/plain": [
       "array([[ 2,  4,  6,  8],\n",
       "       [10, 12, 14, 16],\n",
       "       [18, 20, 22, 24],\n",
       "       [26, 28, 30, 32]])"
      ]
     },
     "execution_count": 47,
     "metadata": {},
     "output_type": "execute_result"
    }
   ],
   "source": [
    "#QUESTION 16\n",
    "arr6=np.arange(2,33,2)\n",
    "arr6=arr6.reshape(4,4)\n",
    "arr6"
   ]
  },
  {
   "cell_type": "code",
   "execution_count": 50,
   "id": "828f41e1",
   "metadata": {},
   "outputs": [
    {
     "data": {
      "text/plain": [
       "array([10, 12, 14, 16])"
      ]
     },
     "execution_count": 50,
     "metadata": {},
     "output_type": "execute_result"
    }
   ],
   "source": [
    "arr6[1]"
   ]
  },
  {
   "cell_type": "code",
   "execution_count": 52,
   "id": "cf1930de",
   "metadata": {},
   "outputs": [
    {
     "data": {
      "text/plain": [
       "array([1, 2, 3, 4, 5])"
      ]
     },
     "execution_count": 52,
     "metadata": {},
     "output_type": "execute_result"
    }
   ],
   "source": [
    "#QUESTION 17\n",
    "arr7=np.arange(1,6)\n",
    "arr7\n"
   ]
  },
  {
   "cell_type": "code",
   "execution_count": 53,
   "id": "5581129e",
   "metadata": {},
   "outputs": [
    {
     "data": {
      "text/plain": [
       "array([ 6,  7,  8,  9, 10])"
      ]
     },
     "execution_count": 53,
     "metadata": {},
     "output_type": "execute_result"
    }
   ],
   "source": [
    "arr8=np.arange(6,11)\n",
    "arr8"
   ]
  },
  {
   "cell_type": "code",
   "execution_count": 54,
   "id": "44844639",
   "metadata": {},
   "outputs": [
    {
     "data": {
      "text/plain": [
       "array([ 7,  9, 11, 13, 15])"
      ]
     },
     "execution_count": 54,
     "metadata": {},
     "output_type": "execute_result"
    }
   ],
   "source": [
    "arr=arr7+arr8\n",
    "arr"
   ]
  },
  {
   "cell_type": "code",
   "execution_count": 67,
   "id": "bafd65b7",
   "metadata": {},
   "outputs": [
    {
     "data": {
      "text/plain": [
       "array([0.814989  , 0.26424353, 0.24285677, 0.23116113, 0.68855791,\n",
       "       0.66483129, 0.72939236, 0.85329087, 0.24836202, 0.16538713])"
      ]
     },
     "execution_count": 67,
     "metadata": {},
     "output_type": "execute_result"
    }
   ],
   "source": [
    "#QUESTION 18\n",
    "arr9=np.random.rand(10)\n",
    "arr9"
   ]
  },
  {
   "cell_type": "code",
   "execution_count": 73,
   "id": "eda8a668",
   "metadata": {},
   "outputs": [
    {
     "data": {
      "text/plain": [
       "array([0.814989  , 0.        , 0.        , 0.        , 0.68855791,\n",
       "       0.66483129, 0.72939236, 0.85329087, 0.        , 0.        ])"
      ]
     },
     "execution_count": 73,
     "metadata": {},
     "output_type": "execute_result"
    }
   ],
   "source": [
    "arr9[arr9<0.5]=0\n",
    "arr9\n"
   ]
  },
  {
   "cell_type": "code",
   "execution_count": null,
   "id": "b8ada0d8",
   "metadata": {},
   "outputs": [],
   "source": []
  },
  {
   "cell_type": "code",
   "execution_count": null,
   "id": "f82ace00",
   "metadata": {},
   "outputs": [],
   "source": []
  }
 ],
 "metadata": {
  "kernelspec": {
   "display_name": "Python 3 (ipykernel)",
   "language": "python",
   "name": "python3"
  },
  "language_info": {
   "codemirror_mode": {
    "name": "ipython",
    "version": 3
   },
   "file_extension": ".py",
   "mimetype": "text/x-python",
   "name": "python",
   "nbconvert_exporter": "python",
   "pygments_lexer": "ipython3",
   "version": "3.9.12"
  }
 },
 "nbformat": 4,
 "nbformat_minor": 5
}
